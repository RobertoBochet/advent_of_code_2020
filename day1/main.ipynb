{
 "cells": [
  {
   "cell_type": "markdown",
   "metadata": {
    "pycharm": {
     "name": "#%% md\n"
    }
   },
   "source": [
    "# Day 1"
   ]
  },
  {
   "cell_type": "markdown",
   "metadata": {},
   "source": [
    "## Part 1"
   ]
  },
  {
   "cell_type": "markdown",
   "metadata": {
    "pycharm": {
     "name": "#%% md\n"
    }
   },
   "source": [
    "Loads the numbers' list"
   ]
  },
  {
   "cell_type": "code",
   "execution_count": null,
   "metadata": {
    "pycharm": {
     "name": "#%%\n"
    }
   },
   "outputs": [],
   "source": [
    "numbers = []\n",
    "\n",
    "with open(\"input\", \"r\") as file:\n",
    "    for number in file.readlines():\n",
    "        numbers.append(int(number))"
   ]
  },
  {
   "cell_type": "markdown",
   "metadata": {},
   "source": [
    "Sorts the numbers"
   ]
  },
  {
   "cell_type": "code",
   "execution_count": null,
   "metadata": {
    "pycharm": {
     "name": "#%%\n"
    }
   },
   "outputs": [],
   "source": [
    "numbers.sort()"
   ]
  },
  {
   "cell_type": "markdown",
   "metadata": {},
   "source": [
    "Creates list's iterators to the first and the last number"
   ]
  },
  {
   "cell_type": "code",
   "execution_count": null,
   "metadata": {
    "pycharm": {
     "name": "#%%\n"
    }
   },
   "outputs": [],
   "source": [
    "i = 0\n",
    "j = len(numbers) - 1"
   ]
  },
  {
   "cell_type": "markdown",
   "metadata": {},
   "source": [
    "Iterates until the iterators target the same number or a solution is found"
   ]
  },
  {
   "cell_type": "code",
   "execution_count": null,
   "metadata": {
    "pycharm": {
     "name": "#%%\n"
    }
   },
   "outputs": [],
   "source": [
    "while i != j:\n",
    "    # checks if the sum of two numbers is 2020\n",
    "    s = numbers[i] + numbers[j]\n",
    "    if s == 2020:\n",
    "        break\n",
    "\n",
    "    # if sum is less than 2020 moves the smaller number iterator to a bigger one\n",
    "    elif s < 2020:\n",
    "        i += 1\n",
    "\n",
    "    # if sum is greater than 2020 moves the bigger number iterator to a smaller one\n",
    "    elif s > 2020:\n",
    "        j -= 1"
   ]
  },
  {
   "cell_type": "markdown",
   "metadata": {},
   "source": [
    "Checks if a solution is found and prints the result"
   ]
  },
  {
   "cell_type": "code",
   "execution_count": null,
   "metadata": {
    "pycharm": {
     "name": "#%%\n"
    }
   },
   "outputs": [],
   "source": [
    "if numbers[i] + numbers[j] == 2020: \n",
    "    print(numbers[i]*numbers[j])"
   ]
  },
  {
   "cell_type": "markdown",
   "metadata": {},
   "source": [
    "## Part 2"
   ]
  },
  {
   "cell_type": "markdown",
   "metadata": {},
   "source": [
    "Creates three iterators to\n",
    "- first number\n",
    "- second number\n",
    "- last number"
   ]
  },
  {
   "cell_type": "code",
   "execution_count": null,
   "metadata": {
    "pycharm": {
     "name": "#%%\n"
    }
   },
   "outputs": [],
   "source": [
    "i = 0\n",
    "k = 1\n",
    "j = len(numbers) - 1"
   ]
  },
  {
   "cell_type": "markdown",
   "metadata": {},
   "source": [
    "Iterates until the three iterators target three different numbers or a solution is found"
   ]
  },
  {
   "cell_type": "code",
   "execution_count": null,
   "metadata": {
    "pycharm": {
     "name": "#%%\n"
    }
   },
   "outputs": [],
   "source": [
    "while i + 1 != j:\n",
    "    # checks if the sum of three numbers is 2020\n",
    "    s = numbers[i] + numbers[k] + numbers[j]\n",
    "    #print(\"{} + {} + {} = {}\".format(numbers[i],numbers[k],numbers[j],c))    \n",
    "    if s == 2020:\n",
    "        break\n",
    "    \n",
    "    # if sum is less than 2020, moves the middle number's iterator to a bigger one\n",
    "    elif s < 2020:\n",
    "        k += 1\n",
    "        # if now the middle iterator and the bigger iterator target the same number\n",
    "        # then moves the smaller iterator to a bigger one and reset the middle one\n",
    "        if k == j:\n",
    "            i += 1\n",
    "            k = i + 1\n",
    "    \n",
    "    # if sum is greater than 2020, moves the bigger iterator to a smaller one if there is not \n",
    "    # a number between smaller and middle numbers else moves smaller iterator to the next number\n",
    "    # anyhow resets the middle iterator\n",
    "    elif s > 2020:\n",
    "        if k == i + 1:\n",
    "            j -= 1\n",
    "        else:\n",
    "            i += 1\n",
    "        k = i + 1"
   ]
  },
  {
   "cell_type": "markdown",
   "metadata": {},
   "source": [
    "Checks if a solution is found and prints the result"
   ]
  },
  {
   "cell_type": "code",
   "execution_count": null,
   "metadata": {
    "pycharm": {
     "name": "#%%\n"
    }
   },
   "outputs": [],
   "source": [
    "if numbers[i] + numbers[k] + numbers[j] == 2020: \n",
    "    print(numbers[i]*numbers[k]*numbers[j])"
   ]
  }
 ],
 "metadata": {
  "kernelspec": {
   "display_name": "Python 3",
   "language": "python",
   "name": "python3"
  },
  "language_info": {
   "codemirror_mode": {
    "name": "ipython",
    "version": 3
   },
   "file_extension": ".py",
   "mimetype": "text/x-python",
   "name": "python",
   "nbconvert_exporter": "python",
   "pygments_lexer": "ipython3",
   "version": "3.8.6"
  }
 },
 "nbformat": 4,
 "nbformat_minor": 1
}
