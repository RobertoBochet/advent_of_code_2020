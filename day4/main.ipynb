{
 "cells": [
  {
   "cell_type": "markdown",
   "metadata": {},
   "source": [
    "# Day 4"
   ]
  },
  {
   "cell_type": "markdown",
   "metadata": {},
   "source": [
    "# Part 1"
   ]
  },
  {
   "cell_type": "markdown",
   "metadata": {},
   "source": [
    "Prepares counter to count the number of valid passports"
   ]
  },
  {
   "cell_type": "code",
   "execution_count": null,
   "metadata": {},
   "outputs": [],
   "source": [
    "n = 0"
   ]
  },
  {
   "cell_type": "markdown",
   "metadata": {},
   "source": [
    "Opens input file"
   ]
  },
  {
   "cell_type": "code",
   "execution_count": null,
   "metadata": {},
   "outputs": [],
   "source": [
    "f = open(\"input\", \"r\")"
   ]
  },
  {
   "cell_type": "markdown",
   "metadata": {},
   "source": [
    "Creates a checklist of necessary labels"
   ]
  },
  {
   "cell_type": "code",
   "execution_count": null,
   "metadata": {},
   "outputs": [],
   "source": [
    "labels = {\n",
    "    \"byr\": False,\n",
    "    \"iyr\": False,\n",
    "    \"eyr\": False,\n",
    "    \"hgt\": False,\n",
    "    \"hcl\": False,\n",
    "    \"ecl\": False,\n",
    "    \"pid\": False\n",
    "}"
   ]
  },
  {
   "cell_type": "markdown",
   "metadata": {},
   "source": [
    "Defines a function to reset the labels checklist"
   ]
  },
  {
   "cell_type": "code",
   "execution_count": null,
   "metadata": {},
   "outputs": [],
   "source": [
    "def reset_checklist():\n",
    "    global labels\n",
    "    labels = {l: False for l in labels}"
   ]
  },
  {
   "cell_type": "markdown",
   "metadata": {},
   "source": [
    "Defines a function to drop characters until the label' end"
   ]
  },
  {
   "cell_type": "code",
   "execution_count": null,
   "metadata": {},
   "outputs": [],
   "source": [
    "def ignore_until_ends_label():\n",
    "    while f.read(1) not in (\" \",\"\\n\"):\n",
    "        pass"
   ]
  },
  {
   "cell_type": "markdown",
   "metadata": {},
   "source": [
    "Reads the input file by chunk of 3 bytes until the end  \n",
    "If the first chunk's character is a new line it evaluates as a end of a passport and checks if the previous passport is valid  \n",
    "If the chunk is a label's identifier check it into the checklist and reads the next label or newline"
   ]
  },
  {
   "cell_type": "code",
   "execution_count": null,
   "metadata": {},
   "outputs": [],
   "source": [
    "r = f.read(3)\n",
    "\n",
    "while r != \"\":\n",
    "    # if a new line is found considers the passport data ended and evaluates the validity of it\n",
    "    if r[0] == \"\\n\":\n",
    "        if all(v for v in labels.values()):\n",
    "            n += 1\n",
    "            \n",
    "        # resets the checklist \n",
    "        reset_checklist()\n",
    "        \n",
    "        # reads another character to complete the chunk of 3 bytes\n",
    "        r = r[1:] + f.read(1)\n",
    "    else:\n",
    "        # checks the label as checked if it is required\n",
    "        if r in labels:\n",
    "            labels[r] = True\n",
    "        \n",
    "        # ignores characters until label ends\n",
    "        ignore_until_ends_label()\n",
    "        \n",
    "        r = f.read(3)"
   ]
  },
  {
   "cell_type": "markdown",
   "metadata": {},
   "source": [
    "Returns the number of valid passport"
   ]
  },
  {
   "cell_type": "code",
   "execution_count": null,
   "metadata": {
    "scrolled": true
   },
   "outputs": [],
   "source": [
    "n"
   ]
  },
  {
   "cell_type": "markdown",
   "metadata": {},
   "source": [
    "## Part 2"
   ]
  },
  {
   "cell_type": "markdown",
   "metadata": {},
   "source": [
    "Creates counter to count valid passports"
   ]
  },
  {
   "cell_type": "code",
   "execution_count": null,
   "metadata": {
    "scrolled": true
   },
   "outputs": [],
   "source": [
    "n = 0"
   ]
  },
  {
   "cell_type": "markdown",
   "metadata": {},
   "source": [
    "Reopens the input file"
   ]
  },
  {
   "cell_type": "code",
   "execution_count": null,
   "metadata": {},
   "outputs": [],
   "source": [
    "f = open(\"input\", \"r\")"
   ]
  },
  {
   "cell_type": "markdown",
   "metadata": {},
   "source": [
    "Defines the function to read the value of the labels"
   ]
  },
  {
   "cell_type": "code",
   "execution_count": null,
   "metadata": {},
   "outputs": [],
   "source": [
    "def read_value() -> str:\n",
    "    s = []\n",
    "    \n",
    "    while (c := f.read(1)) not in (\" \",\"\\n\"):\n",
    "        s += c\n",
    "    \n",
    "    return \"\".join(s[1:])"
   ]
  },
  {
   "cell_type": "markdown",
   "metadata": {},
   "source": [
    "Creates the rules' set for the labels"
   ]
  },
  {
   "cell_type": "code",
   "execution_count": null,
   "metadata": {},
   "outputs": [],
   "source": [
    "import string\n",
    "rules = {\n",
    "    # checks if the value is a number and if it falls inside the valid range\n",
    "    \"byr\": lambda x: x.isdigit() and 1920 <= int(x) <= 2002,\n",
    "    \"iyr\": lambda x: x.isdigit() and 2010 <= int(x) <= 2020,\n",
    "    \"eyr\": lambda x: x.isdigit() and 2020 <= int(x) <= 2030,\n",
    "    \n",
    "    # checks the unit of measurement and the consequent range\n",
    "    \"hgt\": lambda x: (x.endswith(\"cm\") and 150 <= int(x[:-2]) <= 193) or\n",
    "                    (x.endswith(\"in\") and 59 <= int(x[:-2]) <= 76),\n",
    "    \n",
    "    # checks if the string begin with \"#\" and if the characters are all hex values\n",
    "    \"hcl\": lambda x: x.startswith(\"#\") and\n",
    "                    all(c in string.hexdigits for c in x[1:]),\n",
    "    \n",
    "    # checks if the value is a valid category\n",
    "    \"ecl\": lambda x: x in (\"amb\", \"blu\", \"brn\", \"gry\", \"grn\", \"hzl\", \"oth\"),\n",
    "    \n",
    "    # checks value length and that is composed by digits\n",
    "    \"pid\": lambda x: len(x) == 9 and x.isdigit()\n",
    "}"
   ]
  },
  {
   "cell_type": "markdown",
   "metadata": {},
   "source": [
    "Reads the file with chunk of 3 bytes until the end  \n",
    "When a label is found the value is tested with the right rules"
   ]
  },
  {
   "cell_type": "code",
   "execution_count": null,
   "metadata": {
    "scrolled": false
   },
   "outputs": [],
   "source": [
    "r = f.read(3)\n",
    "\n",
    "while r != \"\":\n",
    "    # if a new line is found considers the passport data ended and evaluates the validity of it\n",
    "    if r[0] == \"\\n\":\n",
    "        if all(v for v in labels.values()):\n",
    "            n += 1\n",
    "\n",
    "        # resets the checklist \n",
    "        reset_checklist()\n",
    "        \n",
    "        # reads another character to complete the chunk of 3 bytes\n",
    "        r = r[1:] + f.read(1)\n",
    "\n",
    "    else:\n",
    "        # reads the value of the labels\n",
    "        v = read_value()\n",
    "        \n",
    "        # if the label is one of the expected ones checks the validity of it with the right rules\n",
    "        if r in labels:\n",
    "            if rules[r](v):\n",
    "                labels[r] = True\n",
    "        \n",
    "        r = f.read(3)"
   ]
  },
  {
   "cell_type": "markdown",
   "metadata": {},
   "source": [
    "Returns the number of valid passports"
   ]
  },
  {
   "cell_type": "code",
   "execution_count": null,
   "metadata": {
    "scrolled": true
   },
   "outputs": [],
   "source": [
    "n"
   ]
  }
 ],
 "metadata": {
  "kernelspec": {
   "display_name": "Python 3",
   "language": "python",
   "name": "python3"
  },
  "language_info": {
   "codemirror_mode": {
    "name": "ipython",
    "version": 3
   },
   "file_extension": ".py",
   "mimetype": "text/x-python",
   "name": "python",
   "nbconvert_exporter": "python",
   "pygments_lexer": "ipython3",
   "version": "3.9.0"
  }
 },
 "nbformat": 4,
 "nbformat_minor": 4
}
