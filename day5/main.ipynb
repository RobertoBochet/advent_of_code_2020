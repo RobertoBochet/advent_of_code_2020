{
 "cells": [
  {
   "cell_type": "markdown",
   "metadata": {},
   "source": [
    "# Day 5"
   ]
  },
  {
   "cell_type": "markdown",
   "metadata": {},
   "source": [
    "## Part 1"
   ]
  },
  {
   "cell_type": "markdown",
   "metadata": {},
   "source": [
    "Opens the input file"
   ]
  },
  {
   "cell_type": "code",
   "execution_count": null,
   "metadata": {},
   "outputs": [],
   "source": [
    "file = open(\"input\", \"r\")"
   ]
  },
  {
   "cell_type": "markdown",
   "metadata": {},
   "source": [
    "Initializes the algorithm with the lowest seat ID possible"
   ]
  },
  {
   "cell_type": "code",
   "execution_count": null,
   "metadata": {},
   "outputs": [],
   "source": [
    "g = \"FFFFFFFLLL\""
   ]
  },
  {
   "cell_type": "markdown",
   "metadata": {},
   "source": [
    "Compares the current ID to the current greatest ID from left to right to get the greater of them"
   ]
  },
  {
   "cell_type": "code",
   "execution_count": null,
   "metadata": {},
   "outputs": [],
   "source": [
    "for c in file:\n",
    "    for i in range(10):\n",
    "        # if current characters are the same continue the comparison\n",
    "        if c[i] == g[i]:\n",
    "            continue\n",
    "        \n",
    "        # if the current seat ID is greter than the old one, replaces it\n",
    "        if c[i] == \"B\" or c[i] == \"R\":\n",
    "            g = c[:-1]\n",
    "        \n",
    "        # if the greater between current ID and the old one was found skips to the next seat ID\n",
    "        break"
   ]
  },
  {
   "cell_type": "markdown",
   "metadata": {},
   "source": [
    "Defines a function to decode seat ID as if it were a binary code with **B** or **R** instead of **1**"
   ]
  },
  {
   "cell_type": "code",
   "execution_count": null,
   "metadata": {
    "scrolled": true
   },
   "outputs": [],
   "source": [
    "def decode(s: str) -> int:\n",
    "    v = 0\n",
    "    \n",
    "    for i in range(len(s)):\n",
    "        if s[i] == \"B\" or s[i] == \"R\":\n",
    "            v += 2**(len(s)-i-1)\n",
    "\n",
    "    return v"
   ]
  },
  {
   "cell_type": "markdown",
   "metadata": {},
   "source": [
    "Returns the highest seat ID"
   ]
  },
  {
   "cell_type": "code",
   "execution_count": null,
   "metadata": {},
   "outputs": [],
   "source": [
    "decode(g)"
   ]
  },
  {
   "cell_type": "markdown",
   "metadata": {},
   "source": [
    "## Part 2"
   ]
  },
  {
   "cell_type": "markdown",
   "metadata": {},
   "source": [
    "Defines variable to represent the highest seat ID, the lowest seat ID and the sum of the seat IDs"
   ]
  },
  {
   "cell_type": "code",
   "execution_count": null,
   "metadata": {},
   "outputs": [],
   "source": [
    "h = 0\n",
    "l = 2**10\n",
    "s = 0"
   ]
  },
  {
   "cell_type": "markdown",
   "metadata": {},
   "source": [
    "Reopens the input file"
   ]
  },
  {
   "cell_type": "code",
   "execution_count": null,
   "metadata": {},
   "outputs": [],
   "source": [
    "file = open(\"input\", \"r\")"
   ]
  },
  {
   "cell_type": "markdown",
   "metadata": {},
   "source": [
    "Finds the highest seat ID, the lowest seat ID and the sum of all the seat IDs"
   ]
  },
  {
   "cell_type": "code",
   "execution_count": null,
   "metadata": {},
   "outputs": [],
   "source": [
    "for c in file:\n",
    "    # decodes the current seat ID removing the new line character\n",
    "    c = decode(c[:-1])\n",
    "    \n",
    "    # if the current ID is lower than the old one replaces it\n",
    "    if c < l:\n",
    "        l = c\n",
    "    \n",
    "    # if the current ID is higher than the old one replaces it\n",
    "    if c > h:\n",
    "        h = c\n",
    "    \n",
    "    # sum all the occupied seat ID\n",
    "    s += c "
   ]
  },
  {
   "cell_type": "markdown",
   "metadata": {},
   "source": [
    "The missing seat ID can be found as the sum of all the seat IDs available on the plane minus the sum of all the seat IDs occupied"
   ]
  },
  {
   "cell_type": "code",
   "execution_count": null,
   "metadata": {},
   "outputs": [],
   "source": [
    "(h*(h + 1) - (l - 1)*l) // 2 - s"
   ]
  }
 ],
 "metadata": {
  "kernelspec": {
   "display_name": "Python 3",
   "language": "python",
   "name": "python3"
  },
  "language_info": {
   "codemirror_mode": {
    "name": "ipython",
    "version": 3
   },
   "file_extension": ".py",
   "mimetype": "text/x-python",
   "name": "python",
   "nbconvert_exporter": "python",
   "pygments_lexer": "ipython3",
   "version": "3.9.0"
  }
 },
 "nbformat": 4,
 "nbformat_minor": 4
}
