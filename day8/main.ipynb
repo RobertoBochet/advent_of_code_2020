{
 "cells": [
  {
   "cell_type": "markdown",
   "metadata": {},
   "source": [
    "# Day 8"
   ]
  },
  {
   "cell_type": "markdown",
   "metadata": {},
   "source": [
    "## Part 1"
   ]
  },
  {
   "cell_type": "markdown",
   "metadata": {},
   "source": [
    "Opens the input file"
   ]
  },
  {
   "cell_type": "code",
   "execution_count": null,
   "metadata": {},
   "outputs": [],
   "source": [
    "f = open(\"input\", \"r\")"
   ]
  },
  {
   "cell_type": "markdown",
   "metadata": {},
   "source": [
    "Defines variables to store the accumulated values, a list of read instructions and the pointer"
   ]
  },
  {
   "cell_type": "code",
   "execution_count": null,
   "metadata": {},
   "outputs": [],
   "source": [
    "value = 0\n",
    "instructions = []\n",
    "i = 0"
   ]
  },
  {
   "cell_type": "markdown",
   "metadata": {},
   "source": [
    "Defines a function to read a line of the input file"
   ]
  },
  {
   "cell_type": "code",
   "execution_count": null,
   "metadata": {},
   "outputs": [],
   "source": [
    "def read_next():\n",
    "    cmd, arg = next(f).split()\n",
    "    arg = int(arg)\n",
    "    return cmd, arg"
   ]
  },
  {
   "cell_type": "markdown",
   "metadata": {},
   "source": [
    "Runs the program to find the beginning of the loop"
   ]
  },
  {
   "cell_type": "code",
   "execution_count": null,
   "metadata": {},
   "outputs": [],
   "source": [
    "while True:\n",
    "    if len(instructions) > i:\n",
    "        cmd, arg, vis = instructions[i]\n",
    "        \n",
    "        if vis is True:\n",
    "            break\n",
    "            \n",
    "        instructions[i] = (cmd, arg, True)\n",
    "    else:\n",
    "        for _ in range(i - len(instructions)):\n",
    "            instructions.append((*read_next(), False))\n",
    "        \n",
    "        cmd, arg = read_next()\n",
    "        \n",
    "        instructions.append((cmd, arg, True))\n",
    "        \n",
    "    print(\"{}>\\t{}\\t{}\".format(i, cmd, arg))\n",
    "    \n",
    "    if cmd == \"acc\":\n",
    "        value += arg\n",
    "        i += 1\n",
    "    elif cmd == \"nop\":\n",
    "        i += 1\n",
    "    elif cmd == \"jmp\":\n",
    "        i += arg"
   ]
  },
  {
   "cell_type": "markdown",
   "metadata": {},
   "source": [
    "Shows the final value"
   ]
  },
  {
   "cell_type": "code",
   "execution_count": null,
   "metadata": {
    "scrolled": true
   },
   "outputs": [],
   "source": [
    "value"
   ]
  }
 ],
 "metadata": {
  "kernelspec": {
   "display_name": "Python 3",
   "language": "python",
   "name": "python3"
  },
  "language_info": {
   "codemirror_mode": {
    "name": "ipython",
    "version": 3
   },
   "file_extension": ".py",
   "mimetype": "text/x-python",
   "name": "python",
   "nbconvert_exporter": "python",
   "pygments_lexer": "ipython3",
   "version": "3.9.0"
  }
 },
 "nbformat": 4,
 "nbformat_minor": 4
}
