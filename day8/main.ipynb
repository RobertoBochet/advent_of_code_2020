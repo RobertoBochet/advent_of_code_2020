{
 "cells": [
  {
   "cell_type": "markdown",
   "metadata": {},
   "source": [
    "# Day 8"
   ]
  },
  {
   "cell_type": "markdown",
   "metadata": {},
   "source": [
    "## Part 1"
   ]
  },
  {
   "cell_type": "markdown",
   "metadata": {},
   "source": [
    "Opens the input file"
   ]
  },
  {
   "cell_type": "code",
   "execution_count": null,
   "metadata": {},
   "outputs": [],
   "source": [
    "f = open(\"input\", \"r\")"
   ]
  },
  {
   "cell_type": "markdown",
   "metadata": {},
   "source": [
    "Defines variables to store the accumulated values, a list of read instructions and the pointer"
   ]
  },
  {
   "cell_type": "code",
   "execution_count": null,
   "metadata": {},
   "outputs": [],
   "source": [
    "value = 0\n",
    "instructions = []\n",
    "i = 0"
   ]
  },
  {
   "cell_type": "markdown",
   "metadata": {},
   "source": [
    "Defines a function to read a specific command from the input file"
   ]
  },
  {
   "cell_type": "code",
   "execution_count": null,
   "metadata": {},
   "outputs": [],
   "source": [
    "def get_instruction(i):\n",
    "    if len(instructions) > i:\n",
    "        cmd, arg, vis = instructions[i]\n",
    "            \n",
    "        instructions[i] = (cmd, arg, True)\n",
    "        \n",
    "        return cmd, arg, vis\n",
    "    \n",
    "    for _ in range(i - len(instructions)):\n",
    "        cmd, arg = next(f).split()\n",
    "        arg = int(arg)\n",
    "        instructions.append((cmd, arg, False))\n",
    "\n",
    "    cmd, arg = next(f).split()\n",
    "    arg = int(arg)        \n",
    "    instructions.append((cmd, arg, True))\n",
    "    \n",
    "    return cmd, arg, False"
   ]
  },
  {
   "cell_type": "markdown",
   "metadata": {},
   "source": [
    "Defines a function to execute the command"
   ]
  },
  {
   "cell_type": "code",
   "execution_count": null,
   "metadata": {},
   "outputs": [],
   "source": [
    "def do(i, value, cmd, arg):\n",
    "    if cmd == \"acc\":\n",
    "        value += arg\n",
    "        i += 1\n",
    "    elif cmd == \"nop\":\n",
    "        i += 1\n",
    "    elif cmd == \"jmp\":\n",
    "        i += arg\n",
    "    \n",
    "    return i, value"
   ]
  },
  {
   "cell_type": "markdown",
   "metadata": {},
   "source": [
    "Runs the program to find the beginning of the loop"
   ]
  },
  {
   "cell_type": "code",
   "execution_count": null,
   "metadata": {},
   "outputs": [],
   "source": [
    "while True:\n",
    "    cmd, arg, vis = get_instruction(i)\n",
    "        \n",
    "    if vis is True:\n",
    "        break\n",
    "    \n",
    "    print(\"{}>\\t{}\\t{}\".format(i, cmd, arg))\n",
    "    \n",
    "    i, value = do(i, value, cmd, arg)"
   ]
  },
  {
   "cell_type": "markdown",
   "metadata": {},
   "source": [
    "Shows the final value"
   ]
  },
  {
   "cell_type": "code",
   "execution_count": null,
   "metadata": {
    "scrolled": true
   },
   "outputs": [],
   "source": [
    "value"
   ]
  },
  {
   "cell_type": "markdown",
   "metadata": {},
   "source": [
    "## Part 2"
   ]
  },
  {
   "cell_type": "markdown",
   "metadata": {},
   "source": [
    "Resets pointer and value"
   ]
  },
  {
   "cell_type": "code",
   "execution_count": null,
   "metadata": {},
   "outputs": [],
   "source": [
    "i = 0\n",
    "value = 0"
   ]
  },
  {
   "cell_type": "markdown",
   "metadata": {},
   "source": [
    "Resets the visited list"
   ]
  },
  {
   "cell_type": "code",
   "execution_count": null,
   "metadata": {},
   "outputs": [],
   "source": [
    "instructions = list(map(lambda e: (e[0], e[1], False), instructions))"
   ]
  },
  {
   "cell_type": "markdown",
   "metadata": {},
   "source": [
    "Run the program, if it finds a **nop** or **jmp** changes it and test the new way "
   ]
  },
  {
   "cell_type": "code",
   "execution_count": null,
   "metadata": {},
   "outputs": [],
   "source": [
    "changed_id = None\n",
    "last_value = 0\n",
    "while i != 604:\n",
    "    cmd, arg, vis = get_instruction(i)\n",
    "    \n",
    "    if changed_id is None and cmd in [\"nop\", \"jmp\"]:\n",
    "        changed_id = i\n",
    "        last_value = value\n",
    "        cmd = \"jmp\" if cmd == \"nop\" else \"nop\"\n",
    "        \n",
    "    elif vis and changed_id is not None:\n",
    "        i = changed_id\n",
    "        changed_id = None\n",
    "        value = last_value\n",
    "        cmd, arg, _ = get_instruction(i)\n",
    "        \n",
    "    print(\"{}>\\t{}\\t{}\\t{}\".format(i, cmd, arg, changed_id))\n",
    "        \n",
    "    i, value = do(i, value, cmd, arg)"
   ]
  },
  {
   "cell_type": "markdown",
   "metadata": {},
   "source": [
    "Shows the new value"
   ]
  },
  {
   "cell_type": "code",
   "execution_count": null,
   "metadata": {},
   "outputs": [],
   "source": [
    "value"
   ]
  }
 ],
 "metadata": {
  "kernelspec": {
   "display_name": "Python 3",
   "language": "python",
   "name": "python3"
  },
  "language_info": {
   "codemirror_mode": {
    "name": "ipython",
    "version": 3
   },
   "file_extension": ".py",
   "mimetype": "text/x-python",
   "name": "python",
   "nbconvert_exporter": "python",
   "pygments_lexer": "ipython3",
   "version": "3.9.0"
  }
 },
 "nbformat": 4,
 "nbformat_minor": 4
}
