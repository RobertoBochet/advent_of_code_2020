{
 "cells": [
  {
   "cell_type": "markdown",
   "metadata": {},
   "source": [
    "# Day 7"
   ]
  },
  {
   "cell_type": "markdown",
   "metadata": {},
   "source": [
    "## Part 1"
   ]
  },
  {
   "cell_type": "markdown",
   "metadata": {},
   "source": [
    "Prepares graph dictionary, it will have the following structure *{bag: {can be contained in}}*"
   ]
  },
  {
   "cell_type": "code",
   "execution_count": null,
   "metadata": {},
   "outputs": [],
   "source": [
    "graph = {}"
   ]
  },
  {
   "cell_type": "markdown",
   "metadata": {},
   "source": [
    "Creates regex to parse input, for the container and also for the contents"
   ]
  },
  {
   "cell_type": "code",
   "execution_count": null,
   "metadata": {},
   "outputs": [],
   "source": [
    "import re\n",
    "\n",
    "re_container = re.compile(r\"^(\\w+ \\w+)\")\n",
    "re_content = re.compile(r\"(\\d+) (\\w+ \\w+)\")"
   ]
  },
  {
   "cell_type": "markdown",
   "metadata": {},
   "source": [
    "Generates the graph of bags and them containers"
   ]
  },
  {
   "cell_type": "code",
   "execution_count": null,
   "metadata": {},
   "outputs": [],
   "source": [
    "with open(\"input\", \"r\") as file:\n",
    "    for line in file:\n",
    "        if len(contents := [g[1] for g in re_content.findall(line)]) > 0:\n",
    "            container = re_container.match(line)[1]\n",
    "\n",
    "            for content in contents:\n",
    "                if content not in graph:\n",
    "                    graph[content] = set()\n",
    "\n",
    "                graph[content].add(container)"
   ]
  },
  {
   "cell_type": "markdown",
   "metadata": {},
   "source": [
    "Defines a recursive function to find all the containers for a bag"
   ]
  },
  {
   "cell_type": "code",
   "execution_count": null,
   "metadata": {},
   "outputs": [],
   "source": [
    "def get_containers(color: str, containers: set = set()) -> set[str]:\n",
    "    # checks if the bag can be contained in another bag\n",
    "    if color in graph:\n",
    "        # for each container not already included in the containers found list\n",
    "        # includes it in the list and also its containers\n",
    "        for container in graph[color]:\n",
    "            if container not in containers:\n",
    "                containers.add(container)\n",
    "                containers.update(get_containers(container, containers))\n",
    "\n",
    "    return containers"
   ]
  },
  {
   "cell_type": "markdown",
   "metadata": {},
   "source": [
    "Returns the number of the containers of **shiny gold** bag"
   ]
  },
  {
   "cell_type": "code",
   "execution_count": null,
   "metadata": {},
   "outputs": [],
   "source": [
    "len(get_containers(\"shiny gold\"))"
   ]
  },
  {
   "cell_type": "markdown",
   "metadata": {},
   "source": [
    "## Part 2"
   ]
  },
  {
   "cell_type": "markdown",
   "metadata": {},
   "source": [
    "Creates a new graph with the following structure *{bag: [(bag number it can contains, bag color it can contains)]}*"
   ]
  },
  {
   "cell_type": "code",
   "execution_count": null,
   "metadata": {},
   "outputs": [],
   "source": [
    "graph = {}"
   ]
  },
  {
   "cell_type": "markdown",
   "metadata": {},
   "source": [
    "Generates the graph of bags and what they can contain"
   ]
  },
  {
   "cell_type": "code",
   "execution_count": null,
   "metadata": {},
   "outputs": [],
   "source": [
    "with open(\"input\", \"r\") as file:\n",
    "    for line in file:\n",
    "        if len(contents := re_content.findall(line)) > 0:\n",
    "            container = re_container.match(line)[1]\n",
    "\n",
    "            if content not in graph:\n",
    "                graph[container] = []\n",
    "\n",
    "            graph[container] = [(int(n), c) for n, c in contents]"
   ]
  },
  {
   "cell_type": "markdown",
   "metadata": {},
   "source": [
    "Defines a recursive function to get the content of a bag"
   ]
  },
  {
   "cell_type": "code",
   "execution_count": null,
   "metadata": {},
   "outputs": [],
   "source": [
    "from functools import reduce\n",
    "\n",
    "\n",
    "def get_content_bags(color: str):\n",
    "    if color not in graph:\n",
    "        return 0\n",
    "\n",
    "    return reduce(lambda v, e: v + e[0] * (1 + get_content_bags(e[1])), graph[color], 0)"
   ]
  },
  {
   "cell_type": "markdown",
   "metadata": {},
   "source": [
    "Returns the numbers of the bag contained in a **shiny gold** bag"
   ]
  },
  {
   "cell_type": "code",
   "execution_count": null,
   "metadata": {},
   "outputs": [],
   "source": [
    "get_content_bags(\"shiny gold\")"
   ]
  }
 ],
 "metadata": {
  "kernelspec": {
   "display_name": "Python 3",
   "language": "python",
   "name": "python3"
  },
  "language_info": {
   "codemirror_mode": {
    "name": "ipython",
    "version": 3
   },
   "file_extension": ".py",
   "mimetype": "text/x-python",
   "name": "python",
   "nbconvert_exporter": "python",
   "pygments_lexer": "ipython3",
   "version": "3.9.0"
  }
 },
 "nbformat": 4,
 "nbformat_minor": 4
}
