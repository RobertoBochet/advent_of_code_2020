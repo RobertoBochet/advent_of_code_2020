{
 "cells": [
  {
   "cell_type": "markdown",
   "metadata": {},
   "source": [
    "# Day 6"
   ]
  },
  {
   "cell_type": "markdown",
   "metadata": {},
   "source": [
    "## Part 1"
   ]
  },
  {
   "cell_type": "markdown",
   "metadata": {},
   "source": [
    "Prepares the counter"
   ]
  },
  {
   "cell_type": "code",
   "execution_count": null,
   "metadata": {},
   "outputs": [],
   "source": [
    "n = 0"
   ]
  },
  {
   "cell_type": "markdown",
   "metadata": {},
   "source": [
    "Opens the input file"
   ]
  },
  {
   "cell_type": "code",
   "execution_count": null,
   "metadata": {},
   "outputs": [],
   "source": [
    "f = open(\"input\", \"r\")"
   ]
  },
  {
   "cell_type": "markdown",
   "metadata": {},
   "source": [
    "Defines a function to count the number of set bit in a integer"
   ]
  },
  {
   "cell_type": "code",
   "execution_count": null,
   "metadata": {},
   "outputs": [],
   "source": [
    "def count(x):\n",
    "    g = 0\n",
    "    while x != 0:\n",
    "        x &= (x - 1)\n",
    "        g += 1\n",
    "    return g"
   ]
  },
  {
   "cell_type": "markdown",
   "metadata": {},
   "source": [
    "For each group defines a int to use it as a bitmap checklist, for each answer set the correspondent bit  \n",
    "When a group ends count the set bits"
   ]
  },
  {
   "cell_type": "code",
   "execution_count": null,
   "metadata": {},
   "outputs": [],
   "source": [
    "# uses nl to detect two sequential new line\n",
    "nl = False\n",
    "v = 0\n",
    "while (c := f.read(1)) != \"\":\n",
    "    if nl:\n",
    "        nl = False\n",
    "        if c == \"\\n\":\n",
    "            n += count(v)\n",
    "            v = 0\n",
    "            continue\n",
    "\n",
    "    if c == \"\\n\":\n",
    "        nl = True\n",
    "\n",
    "    else:\n",
    "        # adds the answer to the checklist exploiting the or bitwise\n",
    "        v |= 1 << ord(c) - 97\n",
    "\n",
    "# count also the last group checklist\n",
    "n += count(v)"
   ]
  },
  {
   "cell_type": "markdown",
   "metadata": {},
   "source": [
    "Returns the total number of checks"
   ]
  },
  {
   "cell_type": "code",
   "execution_count": null,
   "metadata": {},
   "outputs": [],
   "source": [
    "n"
   ]
  },
  {
   "cell_type": "markdown",
   "metadata": {},
   "source": [
    "## Part 2"
   ]
  },
  {
   "cell_type": "markdown",
   "metadata": {},
   "source": [
    "Resets counter"
   ]
  },
  {
   "cell_type": "code",
   "execution_count": null,
   "metadata": {},
   "outputs": [],
   "source": [
    "n = 0"
   ]
  },
  {
   "cell_type": "markdown",
   "metadata": {},
   "source": [
    "Reopens input file"
   ]
  },
  {
   "cell_type": "code",
   "execution_count": null,
   "metadata": {},
   "outputs": [],
   "source": [
    "f = open(\"input\", \"r\")"
   ]
  },
  {
   "cell_type": "markdown",
   "metadata": {},
   "source": [
    "Now each user have an own checklist, all the group's checklists are merged with an **and** policy to detect the shared answers"
   ]
  },
  {
   "cell_type": "code",
   "execution_count": null,
   "metadata": {},
   "outputs": [],
   "source": [
    "# uses nl to detect two sequential new line\n",
    "nl = False\n",
    "# v is now checklist for group with \"and\" policy\n",
    "v = 2**27 - 1\n",
    "# u is the checklist for the single user\n",
    "u = 0\n",
    "\n",
    "while (c := f.read(1)) != \"\":\n",
    "    if c != \"\\n\":\n",
    "        nl = False\n",
    "    \n",
    "    # ends of a group\n",
    "    if nl and c == \"\\n\":\n",
    "        n += count(v)\n",
    "        v = 2**27 - 1\n",
    "\n",
    "    # ends of a user list\n",
    "    elif c == \"\\n\":\n",
    "        v &= u\n",
    "        u = 0\n",
    "        nl = True\n",
    "\n",
    "    else:\n",
    "        # adds the answer to the checklist exploiting the or bitwise\n",
    "        u |= 1 << ord(c) - 97\n",
    "\n",
    "# count also the last group checklist\n",
    "n += count(v)"
   ]
  },
  {
   "cell_type": "markdown",
   "metadata": {},
   "source": [
    "Returns the new result"
   ]
  },
  {
   "cell_type": "code",
   "execution_count": null,
   "metadata": {},
   "outputs": [],
   "source": [
    "n"
   ]
  }
 ],
 "metadata": {
  "kernelspec": {
   "display_name": "Python 3",
   "language": "python",
   "name": "python3"
  },
  "language_info": {
   "codemirror_mode": {
    "name": "ipython",
    "version": 3
   },
   "file_extension": ".py",
   "mimetype": "text/x-python",
   "name": "python",
   "nbconvert_exporter": "python",
   "pygments_lexer": "ipython3",
   "version": "3.9.0"
  }
 },
 "nbformat": 4,
 "nbformat_minor": 4
}
